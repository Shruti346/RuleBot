{
  "nbformat": 4,
  "nbformat_minor": 0,
  "metadata": {
    "colab": {
      "provenance": [],
      "authorship_tag": "ABX9TyPBEkKEtDim83T/33+oIwKJ",
      "include_colab_link": true
    },
    "kernelspec": {
      "name": "python3",
      "display_name": "Python 3"
    },
    "language_info": {
      "name": "python"
    }
  },
  "cells": [
    {
      "cell_type": "markdown",
      "metadata": {
        "id": "view-in-github",
        "colab_type": "text"
      },
      "source": [
        "<a href=\"https://colab.research.google.com/github/Shruti346/RuleBot/blob/main/Implementation_Of_ChatBot.ipynb\" target=\"_parent\"><img src=\"https://colab.research.google.com/assets/colab-badge.svg\" alt=\"Open In Colab\"/></a>"
      ]
    },
    {
      "cell_type": "code",
      "execution_count": 2,
      "metadata": {
        "id": "iMWTSkg6AEyY"
      },
      "outputs": [],
      "source": [
        "import re\n",
        "import random"
      ]
    },
    {
      "cell_type": "code",
      "source": [
        "class RuleBot:\n",
        "  ### Potential Negative Responses\n",
        "  negative_responses = (\"no\", \"nah\", \"naw\", \"not a chance\", \"sorry\")\n",
        "  exit_commands = (\"quit\", \"pause\", \"exit\", \"goodbye\", \"bye\", \"later\")\n",
        "  ### random Starter question\n",
        "  random_questions = (\n",
        "      \"Why are you here?\",\n",
        "      \"Are there many humans like you?\",\n",
        "      \"Is there intelligent life on this planet?\",\n",
        "      \"What is your name?\",\n",
        "      \"What song was or do you want to be the your first dance at your wedding?\",\n",
        "      \"What is the nicest act you secretly did for someone?\",\n",
        "      \"How do you make tough decisions?\",\n",
        "      \"Which moment in your life would you most like to do over?\",\n",
        "      \"Which memory would you most like to erase, and which one would you like to remember forever?\"\n",
        "  )\n",
        "  def __init__(self):\n",
        "    self.alienbabble = {'describe_planet_intent':r'.*\\s*your planet*',\n",
        "                        'answer_why_intent':r'why\\sare.*',\n",
        "                        'about_intellipat':r'*\\s*intellipaat',\n",
        "                        'about_session':r'.*\\s*session'\n",
        "                        }\n",
        "  def greet(self):\n",
        "    self.name = input(\"What is your name?\\n\")\n",
        "    will_help = input(\n",
        "        f\"Hi {self.name}, I am rule-bot. Will You help me learn about your planet?\\n\"\n",
        "    )\n",
        "    if will_help in self.negative_responses:\n",
        "      print(\"OK, have a nice Earth day!\")\n",
        "      return\n",
        "    self.chat()\n",
        "\n",
        "  def make_exit(self, reply):\n",
        "    for command in self.exit_commands:\n",
        "      if reply == command:\n",
        "        print(\"Okay, have a nice Earth Day!\")\n",
        "        return True\n",
        "  def chat(self):\n",
        "    reply = input(random.choice(self.random_questions)).lower()\n",
        "    while not self.make_exit(reply):\n",
        "      reply = input (self.match_reply(reply))\n",
        "\n",
        "  def match_reply(self, reply):\n",
        "    for key, value in self.alienbabble.items():\n",
        "      intent = key\n",
        "      regex_pattern = value\n",
        "      found_match = re.match(regex_pattern, reply)\n",
        "      if found_match and intent == 'describe_planet_intent':\n",
        "        return self.describe_planet_intent()\n",
        "      elif found_match and intent == 'answer_why_intent':\n",
        "        return self.answer_why_intent()\n",
        "      elif found_match and intent == 'about_intellipat':\n",
        "        return self.about_intellipat()\n",
        "      elif found_match and intent == 'about_session':\n",
        "        return self.about_session()\n",
        "      if not found_match:\n",
        "        return self.no_match_intent()\n",
        "\n",
        "  def describe_planet_intent(self):\n",
        "    responses = (\"my planet is utopia of diverse organisms and species.\\n\",\n",
        "                 \"I am from opidipus, the capital of the Wayward Galaxies\\n\")\n",
        "    return random.choice(responses)\n",
        "\n",
        "  def answer_why_intent(self):\n",
        "    responses = (\"I come in peace.\\n\", \"Iam here to collect data on your planet.\\n\",\n",
        "                 \"I heard coffee is good.\\n\")\n",
        "    return random.choice(responses)\n",
        "\n",
        "  def about_intellipat(self):\n",
        "    responses = (\"Intellipat is educational company.\\n\", \"Iam here to collect to knowledge.\\n\",\n",
        "                 \"Here your carrer grow with skills.\\n\")\n",
        "    return random.choice(responses)\n",
        "\n",
        "  def about_session(self):\n",
        "    responses = (\"Session is on 12th march.\\n\", \"Session is now live.\\n\")\n",
        "    return random.choice(responses)\n",
        "\n",
        "  def no_match_intent(self):\n",
        "    responses = (\n",
        "        \"please tell me more.\\n\", \"Tell me more.\\n\", \"I see.\\n\", \"Why do you Say that?\\n\",\n",
        "        \"can you elaborate.\\n\"\n",
        "    )\n",
        "    return random.choice(responses)\n",
        "\n",
        "AlienBot = RuleBot()\n",
        "AlienBot.greet()"
      ],
      "metadata": {
        "id": "uV3dcDXuBXpY"
      },
      "execution_count": null,
      "outputs": []
    }
  ]
}